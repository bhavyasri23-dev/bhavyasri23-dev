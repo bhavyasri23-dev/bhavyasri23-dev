{
  "nbformat": 4,
  "nbformat_minor": 0,
  "metadata": {
    "colab": {
      "provenance": [],
      "authorship_tag": "ABX9TyOcDh9PxWlwES9JxZAZIyLy",
      "include_colab_link": true
    },
    "kernelspec": {
      "name": "python3",
      "display_name": "Python 3"
    },
    "language_info": {
      "name": "python"
    }
  },
  "cells": [
    {
      "cell_type": "markdown",
      "metadata": {
        "id": "view-in-github",
        "colab_type": "text"
      },
      "source": [
        "<a href=\"https://colab.research.google.com/github/bhavyasri23-dev/bhavyasri23-dev/blob/main/numpy06.ipynb\" target=\"_parent\"><img src=\"https://colab.research.google.com/assets/colab-badge.svg\" alt=\"Open In Colab\"/></a>"
      ]
    },
    {
      "cell_type": "code",
      "execution_count": 1,
      "metadata": {
        "colab": {
          "base_uri": "https://localhost:8080/"
        },
        "id": "_koswHSRsrLe",
        "outputId": "3819ae14-ffc8-4d78-f8c3-aa6a5b016986"
      },
      "outputs": [
        {
          "output_type": "stream",
          "name": "stdout",
          "text": [
            "Requirement already satisfied: numpy in /usr/local/lib/python3.11/dist-packages (2.0.2)\n"
          ]
        }
      ],
      "source": [
        "pip install numpy\n"
      ]
    },
    {
      "cell_type": "code",
      "source": [
        "import numpy as np\n"
      ],
      "metadata": {
        "id": "j3UqO82stpwG"
      },
      "execution_count": 2,
      "outputs": []
    },
    {
      "cell_type": "code",
      "source": [
        "array1d=np.array([1,2,3,4,5,6,7,8,9])\n",
        "print(array1d)"
      ],
      "metadata": {
        "colab": {
          "base_uri": "https://localhost:8080/"
        },
        "id": "cZmkVImvtzst",
        "outputId": "cfa495ff-3c3c-4ff0-f51e-7ca28d880b64"
      },
      "execution_count": 18,
      "outputs": [
        {
          "output_type": "stream",
          "name": "stdout",
          "text": [
            "[1 2 3 4 5 6 7 8 9]\n"
          ]
        }
      ]
    },
    {
      "cell_type": "markdown",
      "source": [
        "one dimensional array"
      ],
      "metadata": {
        "id": "53vfGgyYuk-r"
      }
    },
    {
      "cell_type": "code",
      "source": [
        "array2d=np.array([[1,2,3,4,5],[6,7,8,9,10]])\n",
        "print(array2d)\n"
      ],
      "metadata": {
        "colab": {
          "base_uri": "https://localhost:8080/"
        },
        "id": "zbFUTLiCt_2t",
        "outputId": "93908be2-4075-4123-b472-9aae911716f4"
      },
      "execution_count": 4,
      "outputs": [
        {
          "output_type": "stream",
          "name": "stdout",
          "text": [
            "[[ 1  2  3  4  5]\n",
            " [ 6  7  8  9 10]]\n"
          ]
        }
      ]
    },
    {
      "cell_type": "markdown",
      "source": [
        "Two dimensional array"
      ],
      "metadata": {
        "id": "iKKufYj9uoTK"
      }
    },
    {
      "cell_type": "code",
      "source": [
        "zero_arr=np.zeros((2,5))\n",
        "print(zero_arr)\n"
      ],
      "metadata": {
        "colab": {
          "base_uri": "https://localhost:8080/"
        },
        "id": "4uifCCkGugeM",
        "outputId": "aa656b01-11d8-4bff-b3e6-abfb8fd9e97f"
      },
      "execution_count": 5,
      "outputs": [
        {
          "output_type": "stream",
          "name": "stdout",
          "text": [
            "[[0. 0. 0. 0. 0.]\n",
            " [0. 0. 0. 0. 0.]]\n"
          ]
        }
      ]
    },
    {
      "cell_type": "markdown",
      "source": [
        "zeros"
      ],
      "metadata": {
        "id": "aLo0bFElvJ25"
      }
    },
    {
      "cell_type": "code",
      "source": [
        "one_arr=np.ones((3,5))\n",
        "print(one_arr)"
      ],
      "metadata": {
        "colab": {
          "base_uri": "https://localhost:8080/"
        },
        "id": "6HKc-rUju2qC",
        "outputId": "2287da91-29ea-48e7-d4b0-045106179a39"
      },
      "execution_count": 6,
      "outputs": [
        {
          "output_type": "stream",
          "name": "stdout",
          "text": [
            "[[1. 1. 1. 1. 1.]\n",
            " [1. 1. 1. 1. 1.]\n",
            " [1. 1. 1. 1. 1.]]\n"
          ]
        }
      ]
    },
    {
      "cell_type": "markdown",
      "source": [
        "ones\n"
      ],
      "metadata": {
        "id": "I6122oAOvMMJ"
      }
    },
    {
      "cell_type": "code",
      "source": [
        "iden_arr=np.eye(5)\n",
        "print(iden_arr)"
      ],
      "metadata": {
        "colab": {
          "base_uri": "https://localhost:8080/"
        },
        "id": "anwii69SvOJZ",
        "outputId": "41b78a21-c840-48fa-ebe7-030385a63796"
      },
      "execution_count": 7,
      "outputs": [
        {
          "output_type": "stream",
          "name": "stdout",
          "text": [
            "[[1. 0. 0. 0. 0.]\n",
            " [0. 1. 0. 0. 0.]\n",
            " [0. 0. 1. 0. 0.]\n",
            " [0. 0. 0. 1. 0.]\n",
            " [0. 0. 0. 0. 1.]]\n"
          ]
        }
      ]
    },
    {
      "cell_type": "markdown",
      "source": [
        "identity matrix"
      ],
      "metadata": {
        "id": "GyVPDHHYyGEY"
      }
    },
    {
      "cell_type": "code",
      "source": [
        "arange_arr=np.arange(1,10,2)\n",
        "print(arange_arr)"
      ],
      "metadata": {
        "colab": {
          "base_uri": "https://localhost:8080/"
        },
        "id": "HwbfqIEavY5g",
        "outputId": "e65c9872-a168-4e09-bf70-9529591452da"
      },
      "execution_count": 8,
      "outputs": [
        {
          "output_type": "stream",
          "name": "stdout",
          "text": [
            "[1 3 5 7 9]\n"
          ]
        }
      ]
    },
    {
      "cell_type": "markdown",
      "source": [
        "arange operation"
      ],
      "metadata": {
        "id": "Ryjt_WA6yIgP"
      }
    },
    {
      "cell_type": "code",
      "source": [
        "random=np.random.random((2,5))\n",
        "print(random)"
      ],
      "metadata": {
        "colab": {
          "base_uri": "https://localhost:8080/"
        },
        "id": "HNyVS7NowGvO",
        "outputId": "f0b0933e-663a-4745-b49f-1389f222dfdb"
      },
      "execution_count": 25,
      "outputs": [
        {
          "output_type": "stream",
          "name": "stdout",
          "text": [
            "[[0.48591292 0.09055486 0.0070823  0.4175944  0.25144203]\n",
            " [0.37247757 0.58155184 0.0452333  0.1382601  0.90739261]]\n"
          ]
        }
      ]
    },
    {
      "cell_type": "code",
      "source": [
        "random1=np.random.randint(2,10)\n",
        "print(random1)"
      ],
      "metadata": {
        "colab": {
          "base_uri": "https://localhost:8080/"
        },
        "id": "JvgiSYq1xnpy",
        "outputId": "1a2861a1-3788-47ac-fe00-42719290d419"
      },
      "execution_count": 31,
      "outputs": [
        {
          "output_type": "stream",
          "name": "stdout",
          "text": [
            "9\n"
          ]
        }
      ]
    },
    {
      "cell_type": "markdown",
      "source": [
        "random"
      ],
      "metadata": {
        "id": "ffnIxszXxlMZ"
      }
    },
    {
      "cell_type": "code",
      "source": [
        "slice=np.array([10,20,30,40,50])\n",
        "print(slice[0:3])\n",
        "print(slice[::4])"
      ],
      "metadata": {
        "colab": {
          "base_uri": "https://localhost:8080/"
        },
        "id": "0bRHrCPVwY8l",
        "outputId": "dea821c6-99f4-406d-d80a-9943538e0397"
      },
      "execution_count": 35,
      "outputs": [
        {
          "output_type": "stream",
          "name": "stdout",
          "text": [
            "[10 20 30]\n",
            "[10 50]\n"
          ]
        }
      ]
    },
    {
      "cell_type": "markdown",
      "source": [
        "slicing"
      ],
      "metadata": {
        "id": "iOgc9SklyMiP"
      }
    },
    {
      "cell_type": "code",
      "source": [
        "index=np.array([1,2,3,4,5,6,7])\n",
        "print(index[3])"
      ],
      "metadata": {
        "colab": {
          "base_uri": "https://localhost:8080/"
        },
        "id": "04yZDo8ow5_U",
        "outputId": "7d2698c9-a640-4d6b-9087-cddbbc1290f5"
      },
      "execution_count": 13,
      "outputs": [
        {
          "output_type": "stream",
          "name": "stdout",
          "text": [
            "4\n"
          ]
        }
      ]
    },
    {
      "cell_type": "markdown",
      "source": [
        "index"
      ],
      "metadata": {
        "id": "FKQbH9nXyOUf"
      }
    },
    {
      "cell_type": "code",
      "source": [
        "linspc=np.linspace(0,1,7)\n",
        "print(linspc)"
      ],
      "metadata": {
        "colab": {
          "base_uri": "https://localhost:8080/"
        },
        "id": "HgHu_RjSxKvr",
        "outputId": "9958d647-486c-4451-9f70-cd89c851a2b2"
      },
      "execution_count": 47,
      "outputs": [
        {
          "output_type": "stream",
          "name": "stdout",
          "text": [
            "[0.   0.25 0.5  0.75 1.  ]\n"
          ]
        }
      ]
    },
    {
      "cell_type": "code",
      "source": [
        "rev_arr=np.array([1,4,7,8,9])\n",
        "print(rev_arr[::-1])"
      ],
      "metadata": {
        "colab": {
          "base_uri": "https://localhost:8080/"
        },
        "id": "Lf0IaNFcyfNG",
        "outputId": "6d13d3a1-44e5-4a0b-fe3d-4a4ea2bd38a4"
      },
      "execution_count": 23,
      "outputs": [
        {
          "output_type": "stream",
          "name": "stdout",
          "text": [
            "[9 8 7 4 1]\n"
          ]
        }
      ]
    },
    {
      "cell_type": "markdown",
      "source": [
        "linespacing"
      ],
      "metadata": {
        "id": "PGHvenCLyQeu"
      }
    },
    {
      "cell_type": "code",
      "source": [
        "arr1=np.array([1,2,3])\n",
        "arr2=np.array([4,5,6])\n",
        "add_array=np.add(arr1,arr2)\n",
        "print(add_array)"
      ],
      "metadata": {
        "colab": {
          "base_uri": "https://localhost:8080/"
        },
        "id": "Tc4VZrDZvvJ3",
        "outputId": "7020b85d-edad-4259-f73b-2c8c93ab0e07"
      },
      "execution_count": 15,
      "outputs": [
        {
          "output_type": "stream",
          "name": "stdout",
          "text": [
            "[5 7 9]\n"
          ]
        }
      ]
    },
    {
      "cell_type": "markdown",
      "source": [
        "add two matrices"
      ],
      "metadata": {
        "id": "FcxtfbMJy5eE"
      }
    },
    {
      "cell_type": "code",
      "source": [
        "arr1=np.array([1,2,3,4])\n",
        "arr2=np.array([5,6,7,8])\n",
        "sub_array=np.subtract(arr1,arr2)\n",
        "print(sub_array)\n",
        "mul_array=np.multiply(arr1,arr2)\n",
        "print(mul_array)\n",
        "div_arr=np.divide(arr1,arr2)\n",
        "print(div_arr)\n",
        "pow_arr=np.power(arr1,4)\n",
        "print(pow_arr)"
      ],
      "metadata": {
        "colab": {
          "base_uri": "https://localhost:8080/"
        },
        "id": "0nMABOc6y4LV",
        "outputId": "381110ff-d5cd-420a-ad08-6eb1e8e58dbe"
      },
      "execution_count": 34,
      "outputs": [
        {
          "output_type": "stream",
          "name": "stdout",
          "text": [
            "[-4 -4 -4 -4]\n",
            "[ 5 12 21 32]\n",
            "[0.2        0.33333333 0.42857143 0.5       ]\n",
            "[  1  16  81 256]\n"
          ]
        }
      ]
    },
    {
      "cell_type": "code",
      "source": [
        "arr1=np.random.randint(10,51,size=(4,5))\n",
        "print(arr1)\n",
        "\n"
      ],
      "metadata": {
        "colab": {
          "base_uri": "https://localhost:8080/"
        },
        "id": "DLOFaAGdvs_n",
        "outputId": "0cf9f2f6-ba28-465d-ff96-013d8f6ad41b"
      },
      "execution_count": 78,
      "outputs": [
        {
          "output_type": "stream",
          "name": "stdout",
          "text": [
            "[[40 13 33 37 17]\n",
            " [16 36 26 24 49]\n",
            " [38 18 12 43 28]\n",
            " [11 12 46 28 43]]\n"
          ]
        }
      ]
    },
    {
      "cell_type": "code",
      "source": [
        "print(arr1[1:3])"
      ],
      "metadata": {
        "colab": {
          "base_uri": "https://localhost:8080/"
        },
        "id": "nG8O2CJg-dmf",
        "outputId": "647336af-246f-43bd-c920-2b5ae662ba1c"
      },
      "execution_count": 79,
      "outputs": [
        {
          "output_type": "stream",
          "name": "stdout",
          "text": [
            "[[16 36 26 24 49]\n",
            " [38 18 12 43 28]]\n"
          ]
        }
      ]
    },
    {
      "cell_type": "code",
      "source": [
        "arr1[arr1%2==0]=-1\n",
        "print(arr1)"
      ],
      "metadata": {
        "colab": {
          "base_uri": "https://localhost:8080/"
        },
        "id": "ZYEMcQ1RAFGi",
        "outputId": "1874fb10-85ae-4beb-d8da-8524d0733062"
      },
      "execution_count": 81,
      "outputs": [
        {
          "output_type": "stream",
          "name": "stdout",
          "text": [
            "[[-1 13 33 37 17]\n",
            " [-1 -1 -1 -1 49]\n",
            " [-1 -1 -1 43 -1]\n",
            " [11 -1 -1 -1 43]]\n"
          ]
        }
      ]
    },
    {
      "cell_type": "code",
      "source": [
        "np.sum(arr1,axis=1)"
      ],
      "metadata": {
        "colab": {
          "base_uri": "https://localhost:8080/"
        },
        "id": "c0Iyz_szCShb",
        "outputId": "09cbbe95-6a90-4f89-8d54-29aa2330e7e8"
      },
      "execution_count": 89,
      "outputs": [
        {
          "output_type": "execute_result",
          "data": {
            "text/plain": [
              "array([99, 45, 39, 51])"
            ]
          },
          "metadata": {},
          "execution_count": 89
        }
      ]
    }
  ]
}